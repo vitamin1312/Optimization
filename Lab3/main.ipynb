{
 "cells": [
  {
   "cell_type": "code",
   "execution_count": 16,
   "metadata": {},
   "outputs": [],
   "source": [
    "from scipy.optimize import linprog"
   ]
  },
  {
   "cell_type": "code",
   "execution_count": 35,
   "metadata": {},
   "outputs": [
    {
     "data": {
      "text/plain": [
       "           con: array([], dtype=float64)\n",
       " crossover_nit: 0\n",
       "         eqlin:  marginals: array([], dtype=float64)\n",
       "  residual: array([], dtype=float64)\n",
       "           fun: -7.600000000000001\n",
       "       ineqlin:  marginals: array([-8.2, -0.6])\n",
       "  residual: array([0., 0.])\n",
       "         lower:  marginals: array([0., 0.])\n",
       "  residual: array([inf, inf])\n",
       "       message: 'Optimization terminated successfully. (HiGHS Status 7: Optimal)'\n",
       "           nit: 2\n",
       "         slack: array([0., 0.])\n",
       "        status: 0\n",
       "       success: True\n",
       "         upper:  marginals: array([0., 0.])\n",
       "  residual: array([1.8, 1.2])\n",
       "             x: array([0.2, 0.8])"
      ]
     },
     "execution_count": 35,
     "metadata": {},
     "output_type": "execute_result"
    }
   ],
   "source": [
    "obj = [-10, -7]\n",
    "\n",
    "lhs_ineq = [[1,  1],\n",
    "            [3,  -2]]\n",
    "\n",
    "\n",
    "rhs_ineq = [1,\n",
    "             -1]\n",
    "\n",
    "\n",
    "bnd = [\n",
    "       (float(\"-inf\"), 2),\n",
    "       (float(\"-inf\"), 2)\n",
    "       ]\n",
    "opt = linprog(c=obj, A_ub=lhs_ineq, b_ub=rhs_ineq,\n",
    "              bounds=bnd,\n",
    "              method=\"HiGHS\")\n",
    "opt"
   ]
  },
  {
   "cell_type": "code",
   "execution_count": null,
   "metadata": {},
   "outputs": [],
   "source": [
    "y = variable(2, 'x')\n",
    "z = (10 * y[0] + 7 * y[1]) # Целевая функция\n",
    "mass1 = (y[0] + y[1] >= 1) # 1\n",
    "mass2 = (y[1] >= 2) # 2\n",
    "mass3 = (3 * y[0] - 2 * y[1] >= -1) # 3\n",
    "mass4 = (y[0] >= 1) # 4\n",
    "problem =op(z,[mass1, mass2, mass3, mass4])\n",
    "print(problem)\n",
    "problem.solve()\n",
    "problem.status\n",
    "print (\"Значение функции:\")\n",
    "print(abs(problem.objective.value()[0]))\n",
    "print (\"План:\")\n",
    "print(y.value)"
   ]
  },
  {
   "cell_type": "code",
   "execution_count": 5,
   "metadata": {},
   "outputs": [
    {
     "name": "stdout",
     "output_type": "stream",
     "text": [
      "Прибыль:\n",
      "3142.857142857143\n",
      "Результат:\n",
      "[ 9.52e+01]\n",
      "[ 2.86e+02]\n",
      "\n",
      "Время :\n",
      "0.011126995086669922\n"
     ]
    }
   ],
   "source": [
    "from cvxopt.modeling import variable, op\n",
    "import time\n",
    "start = time.time()\n",
    "x = variable(2, 'x')\n",
    "z=-(30*x[0] +1*x[1])#Функция цели\n",
    "mass1 = (90*x[0] + 5*x[1]  <= 10000) #\"1\"\n",
    "mass2 = (3*x[0] -x[1] == 0) # \"2\"\n",
    "x_non_negative = (x >= 0) #\"3\"    \n",
    "problem =op(z,[mass1,mass2,x_non_negative])\n",
    "problem.solve(solver='glpk')  \n",
    "problem.status\n",
    "print (\"Прибыль:\")\n",
    "print(abs(problem.objective.value()[0]))\n",
    "print (\"Результат:\")\n",
    "print(x.value)\n",
    "stop = time.time()\n",
    "print (\"Время :\")\n",
    "print(stop - start)"
   ]
  },
  {
   "cell_type": "code",
   "execution_count": null,
   "metadata": {},
   "outputs": [],
   "source": []
  }
 ],
 "metadata": {
  "kernelspec": {
   "display_name": "myenv",
   "language": "python",
   "name": "myenv"
  },
  "language_info": {
   "codemirror_mode": {
    "name": "ipython",
    "version": 3
   },
   "file_extension": ".py",
   "mimetype": "text/x-python",
   "name": "python",
   "nbconvert_exporter": "python",
   "pygments_lexer": "ipython3",
   "version": "3.9.19"
  }
 },
 "nbformat": 4,
 "nbformat_minor": 2
}
