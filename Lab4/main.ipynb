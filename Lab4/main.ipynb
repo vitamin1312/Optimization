{
 "cells": [
  {
   "cell_type": "markdown",
   "id": "3d7d7941",
   "metadata": {},
   "source": [
    "<span style=\"font-size:16pt\">\n",
    "<p style=\"text-align: center;\">\n",
    "    МИНОБРНАУКИ РОССИИ <br>\n",
    "    РГУ НЕФТИ И ГАЗА (НИУ) ИМЕНИ И.М. ГУБКИНА<br>\n",
    "    ФАКУЛЬТЕТ АВТОМАТИКИ И ВЫЧИСЛИТЕЛЬНОЙ ТЕХНИКИ<br>\n",
    "    КАФЕДРА АВТОМАТИЗИРОВАННЫХ СИСТЕМ УПРАВЛЕНИЯ<br>  <br>\n",
    "    ДИСЦИПЛИНА <br>\n",
    "        «Методы и модели оптимизации в автоматизированном управлении НГО»\n",
    "    <br><br> <br> <br> <br> <br>\n",
    "    ОТЧЁТ <br>\n",
    "    по лабораторной работе №4 <br>\n",
    "    «Численные методы решения задач математического программирования»<br> <br> <br> <br> <br>  <br><br> <br> <br> <br> <br> <br> <br> <br> <br>  <br><br> <br> <br> <br>\n",
    "</p>\n",
    "\n",
    "<p style=\"text-align: right;\">\n",
    "    Выполнил:<br>\n",
    "    студент группы АС-21-05, Негробов В.А.<br>\n",
    "    Вариант 14.<br>\n",
    "    Проверила:<br>\n",
    "    старший преподаватель, Степанкина О.А.<br><br> <br> <br> <br> <br><br> <br> <br> <br> <br> <br> <br>\n",
    "</p> <br> <br> <br> <br>\n",
    "\n",
    "<p style=\"text-align: center;\">\n",
    "    МОСКВА 2024\n",
    "</p>\n",
    "   </span>"
   ]
  },
  {
   "cell_type": "markdown",
   "id": "8b2c2de9",
   "metadata": {},
   "source": [
    "Подключение библиотек:"
   ]
  },
  {
   "cell_type": "code",
   "execution_count": 384,
   "id": "f5856a08",
   "metadata": {},
   "outputs": [],
   "source": [
    "import numpy as np\n",
    "import pandas as pd\n",
    "from scipy.optimize import minimize\n",
    "from functools import partial"
   ]
  },
  {
   "cell_type": "markdown",
   "id": "0be6b9c6",
   "metadata": {},
   "source": [
    "# 1. Выбрать вариант задачи, соответствующий вашему номеру из списка группы."
   ]
  },
  {
   "attachments": {
    "image.png": {
     "image/png": "[encoded data removed]"
    }
   },
   "cell_type": "markdown",
   "id": "9193507e",
   "metadata": {},
   "source": [
    "![image.png](attachment:image.png)"
   ]
  },
  {
   "cell_type": "markdown",
   "id": "20b4b4da",
   "metadata": {},
   "source": [
    "Целевая функция:"
   ]
  },
  {
   "cell_type": "code",
   "execution_count": 385,
   "id": "9d0ac826",
   "metadata": {},
   "outputs": [],
   "source": [
    "def f(x):\n",
    "    x1, x2, x3 = x\n",
    "    return 3 * x1**2 + 2 * x1 + 2 * x2**2 + 4 * x2 * x3"
   ]
  },
  {
   "cell_type": "markdown",
   "id": "aa34ecce",
   "metadata": {},
   "source": [
    "Ограничения:"
   ]
  },
  {
   "cell_type": "code",
   "execution_count": 386,
   "id": "aa24de39",
   "metadata": {},
   "outputs": [],
   "source": [
    "def constraint1(x):\n",
    "    x1, x2, x3 = x\n",
    "    return x1**2 + 2 * x2**2 - 19\n",
    "\n",
    "def constraint2(x):\n",
    "    x1, x2, x3 = x\n",
    "    return x1 + 2 * x2 * x3 - 11"
   ]
  },
  {
   "cell_type": "markdown",
   "id": "e74be91f",
   "metadata": {},
   "source": [
    "# 2. Найти решение задачи средствами одного из математических пакетов."
   ]
  },
  {
   "cell_type": "markdown",
   "id": "6486e1e8",
   "metadata": {},
   "source": [
    "Начальное приближение, ограничения:"
   ]
  },
  {
   "cell_type": "code",
   "execution_count": 387,
   "id": "d766acdf",
   "metadata": {},
   "outputs": [],
   "source": [
    "x0 = [0, 3, 2]\n",
    "cons = [{'type': 'eq', 'fun': constraint1},\n",
    "        {'type': 'eq', 'fun': constraint2}]\n",
    "bounds = [(None, None), (None, None), (None, None)]"
   ]
  },
  {
   "cell_type": "markdown",
   "id": "dbd98bcf",
   "metadata": {},
   "source": [
    "Минимизация целевой функции:"
   ]
  },
  {
   "cell_type": "code",
   "execution_count": 388,
   "id": "22171003",
   "metadata": {},
   "outputs": [
    {
     "name": "stderr",
     "output_type": "stream",
     "text": [
      "C:\\Users\\vikto\\anaconda3\\lib\\site-packages\\scipy\\optimize\\_hessian_update_strategy.py:182: UserWarning: delta_grad == 0.0. Check if the approximated function is linear. If the function is linear better results can be obtained by defining the Hessian as zero instead of using quasi-Newton approximations.\n",
      "  warn('delta_grad == 0.0. Check if the approximated '\n"
     ]
    },
    {
     "data": {
      "text/plain": [
       "         cg_niter: 24\n",
       "     cg_stop_cond: 1\n",
       "           constr: [array([0.]), array([0.]), array([0., 3., 2.])]\n",
       "      constr_nfev: [72, 72, 0]\n",
       "      constr_nhev: [0, 0, 0]\n",
       "      constr_njev: [0, 0, 0]\n",
       "   constr_penalty: 2.045871047611336\n",
       " constr_violation: 0.0\n",
       "   execution_time: 0.09276366233825684\n",
       "              fun: 41.000000000000014\n",
       "             grad: array([ 2.00000095, 19.46657058, 12.32882813])\n",
       "              jac: [array([[2.38418579e-07, 1.23288281e+01, 0.00000000e+00]]), array([[1.        , 3.56887123, 6.164414  ]]), array([[1., 0., 0.],\n",
       "       [0., 1., 0.],\n",
       "       [0., 0., 1.]])]\n",
       "  lagrangian_grad: array([ 6.75797188e-07, -1.15463195e-14, -1.09628772e-07])\n",
       "          message: '`xtol` termination condition is satisfied.'\n",
       "           method: 'equality_constrained_sqp'\n",
       "             nfev: 72\n",
       "             nhev: 0\n",
       "              nit: 26\n",
       "            niter: 26\n",
       "             njev: 18\n",
       "       optimality: 6.757971884319147e-07\n",
       "           status: 2\n",
       "          success: True\n",
       "        tr_radius: 1.641533465948489e-09\n",
       "                v: [array([-0.99999999]), array([-2.00000004]), array([0., 0., 0.])]\n",
       "                x: array([9.23473756e-08, 3.08220700e+00, 1.78443562e+00])"
      ]
     },
     "execution_count": 388,
     "metadata": {},
     "output_type": "execute_result"
    }
   ],
   "source": [
    "solution = minimize(f, x0, method='trust-constr',\n",
    "                    bounds=bounds, constraints=cons)\n",
    "solution"
   ]
  },
  {
   "cell_type": "markdown",
   "id": "6f3c9c3a",
   "metadata": {},
   "source": [
    "Решение задачи минимизации"
   ]
  },
  {
   "cell_type": "code",
   "execution_count": 389,
   "id": "6074bb0b",
   "metadata": {},
   "outputs": [
    {
     "data": {
      "text/plain": [
       "(array([9.23473756e-08, 3.08220700e+00, 1.78443562e+00]), 41.000000000000014)"
      ]
     },
     "execution_count": 389,
     "metadata": {},
     "output_type": "execute_result"
    }
   ],
   "source": [
    "sp_x, sp_f = solution.x, solution.fun\n",
    "solution.x, solution.fun"
   ]
  },
  {
   "cell_type": "markdown",
   "id": "9f1ed081",
   "metadata": {},
   "source": [
    "# 3. Написать скрипты, реализующие:"
   ]
  },
  {
   "cell_type": "markdown",
   "id": "be668300",
   "metadata": {},
   "source": [
    "## 3.2. Метод барьерных функций (четные номера)."
   ]
  },
  {
   "cell_type": "markdown",
   "id": "193eb150",
   "metadata": {},
   "source": [
    "Барьерная функция для ограничения типа равенство в виде $P(x, r) = r * \\Sigma_{i} e^{|g_i(x)|}$:"
   ]
  },
  {
   "cell_type": "code",
   "execution_count": 390,
   "id": "99aee216",
   "metadata": {},
   "outputs": [],
   "source": [
    "def P(x, r=1):\n",
    "    return r * (np.exp(abs(constraint1(x))) + np.exp(abs(constraint2(x))) - 2)"
   ]
  },
  {
   "cell_type": "markdown",
   "id": "8c35f65b",
   "metadata": {},
   "source": [
    "Гиперпараметры:"
   ]
  },
  {
   "cell_type": "code",
   "execution_count": null,
   "id": "2c324661",
   "metadata": {},
   "outputs": [],
   "source": [
    "r = 10\n",
    "c = 10\n",
    "tol = 1e-4"
   ]
  },
  {
   "cell_type": "markdown",
   "id": "cd7f0a3c",
   "metadata": {},
   "source": [
    "Решение задачи безусловной оптимизации с проверкой барьерной функции:"
   ]
  },
  {
   "cell_type": "code",
   "execution_count": 403,
   "id": "f6554365",
   "metadata": {},
   "outputs": [
    {
     "name": "stdout",
     "output_type": "stream",
     "text": [
      "P(solution.x) = 9.430638187701845e-06, r = 10\n"
     ]
    }
   ],
   "source": [
    "for i in range(20):\n",
    "    F = lambda x: f(x) + P(x, r)\n",
    "    solution = minimize(F, x0, method='Nelder-Mead',\n",
    "                   options={'xatol': tol, 'disp': False})\n",
    "    if P(solution.x) < tol:\n",
    "        print(f'{P(solution.x) = }, {r = }')\n",
    "        break\n",
    "    else:\n",
    "        r = r * c"
   ]
  },
  {
   "cell_type": "markdown",
   "id": "67a8e1b6",
   "metadata": {},
   "source": [
    "Результат решения задачи:"
   ]
  },
  {
   "cell_type": "code",
   "execution_count": 404,
   "id": "d0520295",
   "metadata": {},
   "outputs": [
    {
     "data": {
      "text/plain": [
       " final_simplex: (array([[9.80011726e-05, 3.08220756e+00, 1.78441982e+00],\n",
       "       [9.81943336e-05, 3.08220635e+00, 1.78441888e+00],\n",
       "       [9.85412812e-05, 3.08220705e+00, 1.78442157e+00],\n",
       "       [9.88013849e-05, 3.08220754e+00, 1.78441740e+00]]), array([41.00010629, 41.00013174, 41.00015145, 41.00016578]))\n",
       "           fun: 41.00010629057491\n",
       "       message: 'Optimization terminated successfully.'\n",
       "          nfev: 110\n",
       "           nit: 62\n",
       "        status: 0\n",
       "       success: True\n",
       "             x: array([9.80011726e-05, 3.08220756e+00, 1.78441982e+00])"
      ]
     },
     "execution_count": 404,
     "metadata": {},
     "output_type": "execute_result"
    }
   ],
   "source": [
    "solution"
   ]
  },
  {
   "cell_type": "code",
   "execution_count": 405,
   "id": "c9f65638",
   "metadata": {},
   "outputs": [
    {
     "data": {
      "text/plain": [
       "(array([9.80011726e-05, 3.08220756e+00, 1.78441982e+00]), 41.00001198419304)"
      ]
     },
     "execution_count": 405,
     "metadata": {},
     "output_type": "execute_result"
    }
   ],
   "source": [
    "bf_x, bf_f = solution.x, f(solution.x)\n",
    "solution.x, f(solution.x)"
   ]
  },
  {
   "cell_type": "markdown",
   "id": "dfcb8f7f",
   "metadata": {},
   "source": [
    "## 3.3. Метод проекции градиента"
   ]
  },
  {
   "cell_type": "markdown",
   "id": "bcd9fa99",
   "metadata": {},
   "source": [
    "Нахождение градиентов ограничений:"
   ]
  },
  {
   "cell_type": "code",
   "execution_count": 406,
   "id": "28f34481",
   "metadata": {},
   "outputs": [],
   "source": [
    "def get_a_matrix(x):\n",
    "    x1, x2, x3 = x\n",
    "    return np.array([\n",
    "        [2 * x1, 4 * x2, 0],\n",
    "        [1, 2 * x3, 2 * x2]\n",
    "    ])"
   ]
  },
  {
   "cell_type": "markdown",
   "id": "ae908282",
   "metadata": {},
   "source": [
    "Вектор значения ограничений:"
   ]
  },
  {
   "cell_type": "code",
   "execution_count": 407,
   "id": "fff548ad",
   "metadata": {},
   "outputs": [],
   "source": [
    "def get_tau_vector(x):\n",
    "    return - np.array(\n",
    "        [constraint1(x), constraint2(x)]\n",
    "    )"
   ]
  },
  {
   "cell_type": "markdown",
   "id": "a02af970",
   "metadata": {},
   "source": [
    "Градиент функции:"
   ]
  },
  {
   "cell_type": "code",
   "execution_count": 408,
   "id": "0a05d2f0",
   "metadata": {},
   "outputs": [],
   "source": [
    "def get_f_grad(x):\n",
    "    x1, x2, x3 = x\n",
    "    return np.array(\n",
    "        [6 * x1 + 2, 4 * x2 + 4 * x3, 4 * x2]\n",
    "    )"
   ]
  },
  {
   "cell_type": "markdown",
   "id": "b23600f8",
   "metadata": {},
   "source": [
    "Расчёт чисел Фибонначи:"
   ]
  },
  {
   "cell_type": "code",
   "execution_count": 409,
   "id": "276796c6",
   "metadata": {},
   "outputs": [],
   "source": [
    "def fibonacci_numbers(max_value):\n",
    "\n",
    "    num1, num2 = 1, 1\n",
    "    \n",
    "    yield num1\n",
    "    \n",
    "    if num1 > max_value and  num2 > max_value:\n",
    "        return\n",
    "\n",
    "    if num1 < max_value and num2 > max_value:\n",
    "        yield num2\n",
    "\n",
    "    while num2 < max_value:\n",
    "        num1, num2 = num2, num1 + num2\n",
    "        yield num2"
   ]
  },
  {
   "cell_type": "markdown",
   "id": "10d4e44f",
   "metadata": {},
   "source": [
    "Функция одномерной минимизации Фибонначи:"
   ]
  },
  {
   "cell_type": "code",
   "execution_count": 410,
   "id": "c90d52c1",
   "metadata": {},
   "outputs": [],
   "source": [
    "def fibonacci_method(func, a, b, interval_length, eps, callback=None):\n",
    "    \n",
    "    if callback is None:\n",
    "        callback = lambda c, v: 0\n",
    "        \n",
    "    max_value = (b - a) / interval_length\n",
    "    fib_nums = [num for num in fibonacci_numbers(max_value)]\n",
    "    length = len(fib_nums) - 1\n",
    "    y = a + fib_nums[length - 2] / fib_nums[length] * (b - a)\n",
    "    z = a + fib_nums[length - 1] / fib_nums[length] * (b - a)\n",
    "    k = 1\n",
    "    max_k = length - 3\n",
    "    \n",
    "    func_y, func_z = func(y), func(z)\n",
    "    \n",
    "    for k in range(max_k + 1):        \n",
    "        if func_y <= func_z:\n",
    "            less = True\n",
    "            b, z = z, y\n",
    "            y = a + fib_nums[length - k - 3] / fib_nums[length - k - 1] * (b - a)\n",
    "            callback(b, func_z)\n",
    "        else:\n",
    "            less = False\n",
    "            a, y = y, z\n",
    "            z = a + fib_nums[length - k - 2] / fib_nums[length - k - 1] * (b - a)\n",
    "            callback(a, func_y)\n",
    "        func_y, func_z = (func(y), func_y) if less else (func_z, func(z))\n",
    "        \n",
    "    y = z\n",
    "    z = y + eps\n",
    "    x = (a + z) / 2 if func_y <= func(z) else (y + b) / 2\n",
    "    callback(x, func(x))\n",
    "    return x, max_k + 1"
   ]
  },
  {
   "cell_type": "markdown",
   "id": "21c44443",
   "metadata": {},
   "source": [
    "Методи проекции градинета:"
   ]
  },
  {
   "cell_type": "code",
   "execution_count": 411,
   "id": "86e135f7",
   "metadata": {},
   "outputs": [],
   "source": [
    "def gradient_projection_method(f, x, t=1,\n",
    "                               lr_min=1e-7, lr_max=1,\n",
    "                               eps=1e-4, max_iter=10_000):\n",
    "    \n",
    "    def fi(t, x, d):\n",
    "        nonlocal f\n",
    "        return f(x + t * d)\n",
    "    \n",
    "    fib_k = 0\n",
    "    \n",
    "    for i in range(max_iter):\n",
    "        A = get_a_matrix(x)\n",
    "        tau = get_tau_vector(x)\n",
    "        delta2x = A.T @ np.linalg.inv(A @ A.T) @ tau\n",
    "        delta2x_norm = np.linalg.norm(delta2x)\n",
    "        grad_f = get_f_grad(x)\n",
    "        delta_x = - (np.eye(A.shape[1]) - A.T @ np.linalg.inv(A @ A.T) @ A) @ grad_f\n",
    "        \n",
    "        first, second = np.linalg.norm(delta_x) < eps, np.linalg.norm(delta2x_norm) < eps\n",
    "        \n",
    "        if first and second:\n",
    "            print(fib_k)\n",
    "            return x, i\n",
    "        elif not first and second:\n",
    "            delta2x_norm = 0\n",
    "        elif first and not second:\n",
    "            delta_x = 0\n",
    "        if not first:\n",
    "            fi_x_d = partial(fi, x=x, d=delta_x)\n",
    "            t, fc = fibonacci_method(fi_x_d, lr_min, lr_max, 0.07, 0.2)\n",
    "            fib_k += fc\n",
    "        \n",
    "        x = x + t * delta_x + delta2x\n",
    "    print(fib_k)\n",
    "    return x, max_iter"
   ]
  },
  {
   "cell_type": "markdown",
   "id": "50aba258",
   "metadata": {},
   "source": [
    "Решение задачи минимизации:"
   ]
  },
  {
   "cell_type": "code",
   "execution_count": 412,
   "id": "b5ef7af5",
   "metadata": {},
   "outputs": [
    {
     "name": "stdout",
     "output_type": "stream",
     "text": [
      "12\n"
     ]
    }
   ],
   "source": [
    "x, it = gradient_projection_method(f, np.array(x0))"
   ]
  },
  {
   "cell_type": "code",
   "execution_count": 413,
   "id": "62aee8a3",
   "metadata": {},
   "outputs": [
    {
     "data": {
      "text/plain": [
       "(array([-2.07931243e-06,  3.08220700e+00,  1.78443597e+00]), 41.00000000137163)"
      ]
     },
     "execution_count": 413,
     "metadata": {},
     "output_type": "execute_result"
    }
   ],
   "source": [
    "gp_x, gp_f = x, f(x)\n",
    "x, f(x)"
   ]
  },
  {
   "cell_type": "markdown",
   "id": "b028f81e",
   "metadata": {},
   "source": [
    "# 4. Сформулировать выводы об эффективности методов"
   ]
  },
  {
   "cell_type": "markdown",
   "id": "811c98b6",
   "metadata": {},
   "source": [
    "Результаты работы методов:"
   ]
  },
  {
   "cell_type": "code",
   "execution_count": 414,
   "id": "514a83d4",
   "metadata": {},
   "outputs": [
    {
     "data": {
      "text/html": [
       "<div>\n",
       "<style scoped>\n",
       "    .dataframe tbody tr th:only-of-type {\n",
       "        vertical-align: middle;\n",
       "    }\n",
       "\n",
       "    .dataframe tbody tr th {\n",
       "        vertical-align: top;\n",
       "    }\n",
       "\n",
       "    .dataframe thead th {\n",
       "        text-align: right;\n",
       "    }\n",
       "</style>\n",
       "<table border=\"1\" class=\"dataframe\">\n",
       "  <thead>\n",
       "    <tr style=\"text-align: right;\">\n",
       "      <th></th>\n",
       "      <th>Method</th>\n",
       "      <th>Solution [x1, x2, x3]</th>\n",
       "      <th>Function Value</th>\n",
       "      <th>Iterations</th>\n",
       "    </tr>\n",
       "  </thead>\n",
       "  <tbody>\n",
       "    <tr>\n",
       "      <th>0</th>\n",
       "      <td>trust-constr</td>\n",
       "      <td>[0.0, 3.08221, 1.78444]</td>\n",
       "      <td>41.00000</td>\n",
       "      <td>26</td>\n",
       "    </tr>\n",
       "    <tr>\n",
       "      <th>1</th>\n",
       "      <td>Barrier function + Nelder-Meadn</td>\n",
       "      <td>[0.0001, 3.08221, 1.78442]</td>\n",
       "      <td>41.00001</td>\n",
       "      <td>62</td>\n",
       "    </tr>\n",
       "    <tr>\n",
       "      <th>2</th>\n",
       "      <td>Gradient Projection</td>\n",
       "      <td>[-0.0, 3.08221, 1.78444]</td>\n",
       "      <td>41.00000</td>\n",
       "      <td>4 + 12</td>\n",
       "    </tr>\n",
       "  </tbody>\n",
       "</table>\n",
       "</div>"
      ],
      "text/plain": [
       "                            Method       Solution [x1, x2, x3]  \\\n",
       "0                     trust-constr     [0.0, 3.08221, 1.78444]   \n",
       "1  Barrier function + Nelder-Meadn  [0.0001, 3.08221, 1.78442]   \n",
       "2              Gradient Projection    [-0.0, 3.08221, 1.78444]   \n",
       "\n",
       "   Function Value Iterations  \n",
       "0        41.00000         26  \n",
       "1        41.00001         62  \n",
       "2        41.00000     4 + 12  "
      ]
     },
     "execution_count": 414,
     "metadata": {},
     "output_type": "execute_result"
    }
   ],
   "source": [
    "tol = 5\n",
    "data = {\n",
    "    \"Method\": [\"trust-constr\", \"Barrier function + Nelder-Meadn\", \"Gradient Projection\"],\n",
    "    \"Solution [x1, x2, x3]\": [np.round(sp_x, tol), np.round(bf_x, tol), np.round(gp_x, tol)],\n",
    "    \"Function Value\": [round(sp_f, tol), round(bf_f, tol), round(gp_f, tol)],\n",
    "    \"Iterations\": [26, 62, str(it) + ' + 12']\n",
    "}\n",
    "\n",
    "pd.DataFrame(data)"
   ]
  },
  {
   "cell_type": "markdown",
   "id": "1c39eac0",
   "metadata": {},
   "source": [
    "Вывод:"
   ]
  },
  {
   "cell_type": "markdown",
   "id": "40d044c2",
   "metadata": {},
   "source": [
    "Метод Trust-Region (trst-constr) является наиболее удобным в использовании, потому что он является встроенным методом библиотеки SciPy. Также его удобство обуславливается простотой ввода ограничений. Для минимизации целевой функции ему потребовалось 26 итераций, что является средним по количеству среди остальных методов. Этот метод является наиболее предпочтительным для решения базовых задач.\n",
    "\n",
    "Метод штрафных функций с использованием для минимизации метода Нелдера — Мида наиболее сложен в реализации, так как требует изобретательности при выборе штрафных функций и выборе значений гиперпараметров. Конечно, возможен итеративный подбор гиперпарметров, но, даже при выборе их оптимальных значений, он совершил наибольшее количество итераций. Данный метод, как мне кажется, является самым неэффективным.\n",
    "\n",
    "Метод проекции градиентов является методом наискорейшего спуска, отличающегося в реализации тем, что градиент целевой функции проецируется на область ограничений. При его написании необходим ввод метода одномерной оптимизации и нахождение различных частных производных, что замедляет процесс реализации. Подбор гиперпарметров является относительно непростой задачей, так как необходимо выбрать точность нахождения скорости обучения не слишком высокой, но и не слишком низкой. В любом случае, для нахождения минимума этому методу потребовалось совершить минимальное количество итераций. Метод является оптимальным для минимизации сложный функций.\n"
   ]
  }
 ],
 "metadata": {
  "kernelspec": {
   "display_name": "myenv",
   "language": "python",
   "name": "myenv"
  },
  "language_info": {
   "codemirror_mode": {
    "name": "ipython",
    "version": 3
   },
   "file_extension": ".py",
   "mimetype": "text/x-python",
   "name": "python",
   "nbconvert_exporter": "python",
   "pygments_lexer": "ipython3",
   "version": "3.9.19"
  }
 },
 "nbformat": 4,
 "nbformat_minor": 5
}
